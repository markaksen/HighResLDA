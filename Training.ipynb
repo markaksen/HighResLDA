{
 "cells": [
  {
   "cell_type": "markdown",
   "metadata": {},
   "source": [
    "# Model Training"
   ]
  },
  {
   "cell_type": "markdown",
   "metadata": {},
   "source": [
    "Load clean data"
   ]
  },
  {
   "cell_type": "code",
   "execution_count": 1,
   "metadata": {},
   "outputs": [],
   "source": [
    "import pickle\n",
    "import os\n",
    "import numpy as np\n",
    "import pandas as pd\n",
    "import collections\n",
    "import train_helpers"
   ]
  },
  {
   "cell_type": "code",
   "execution_count": 2,
   "metadata": {},
   "outputs": [],
   "source": [
    "# Load documents dataset\n",
    "\n",
    "docs_cleaned_dir = './Dataset/cleaned/final/docs/'\n",
    "docs_cleaned_file = docs_cleaned_dir + 'docs_cleaned.pkl'\n",
    "with open(docs_cleaned_file, 'rb') as f:\n",
    "    docs_cleaned = pickle.load(f)"
   ]
  },
  {
   "cell_type": "code",
   "execution_count": 3,
   "metadata": {},
   "outputs": [],
   "source": [
    "docs_dct = docs_cleaned['dct']\n",
    "docs_corpus = docs_cleaned['corpus']\n",
    "docs_counter = docs_cleaned['counter']\n",
    "docs_docs = docs_cleaned['docs']\n",
    "docs_ids = docs_cleaned['ids']\n",
    "docs_key_words = docs_cleaned['key_words']"
   ]
  },
  {
   "cell_type": "code",
   "execution_count": 4,
   "metadata": {},
   "outputs": [],
   "source": [
    "# Load sections dataset\n",
    "\n",
    "sections_cleaned_dir = './Dataset/cleaned/final/sections/'\n",
    "sections_cleaned_file = sections_cleaned_dir + 'sections_cleaned.pkl'\n",
    "with open(sections_cleaned_file, 'rb') as f:\n",
    "    sections_cleaned = pickle.load(f)"
   ]
  },
  {
   "cell_type": "code",
   "execution_count": 5,
   "metadata": {},
   "outputs": [],
   "source": [
    "sections_dct = sections_cleaned['dct']\n",
    "sections_corpus = sections_cleaned['corpus']\n",
    "sections_counter = sections_cleaned['counter']\n",
    "sections_docs = sections_cleaned['docs']\n",
    "paper_ids = sections_cleaned['ids']\n",
    "sections_lens = list(map(len, sections_corpus))"
   ]
  },
  {
   "cell_type": "code",
   "execution_count": 6,
   "metadata": {},
   "outputs": [
    {
     "name": "stdout",
     "output_type": "stream",
     "text": [
      "13165  = vocabulary size\n",
      "4536  = number of docs in corpus\n",
      "52020  = number of sections in corpus\n",
      "114.974  = mean len of sections after filtering\n"
     ]
    }
   ],
   "source": [
    "# Get summary statistics\n",
    "print(len(sections_dct), \" = vocabulary size\")\n",
    "print(len(docs_corpus), \" = number of docs in corpus\")\n",
    "print(len(sections_corpus), \" = number of sections in corpus\")\n",
    "print(round(np.mean(sections_lens),3), \" = mean len of sections after filtering\")"
   ]
  },
  {
   "cell_type": "code",
   "execution_count": 7,
   "metadata": {},
   "outputs": [],
   "source": [
    "# Calculate log weighting scheme\n",
    "V = len(sections_dct)\n",
    "weights_log = train_helpers.log_weights(sections_dct, V)"
   ]
  },
  {
   "cell_type": "code",
   "execution_count": 9,
   "metadata": {},
   "outputs": [
    {
     "name": "stdout",
     "output_type": "stream",
     "text": [
      "normalizing\n"
     ]
    }
   ],
   "source": [
    "# Calculate PMI weighting scheme\n",
    "weights_pmi = train_helpers.pmi_weights(sections_cleaned)"
   ]
  },
  {
   "cell_type": "code",
   "execution_count": 10,
   "metadata": {},
   "outputs": [
    {
     "name": "stdout",
     "output_type": "stream",
     "text": [
      "normalizing\n"
     ]
    }
   ],
   "source": [
    "# Calculate High-res weighting scheme\n",
    "weights_highres = train_helpers.highres_weights(docs_cleaned, sections_cleaned)"
   ]
  },
  {
   "cell_type": "code",
   "execution_count": 11,
   "metadata": {},
   "outputs": [],
   "source": [
    "# Create copies of the corpus\n",
    "import copy\n",
    "sections_corpus_log = copy.deepcopy(sections_corpus)\n",
    "sections_corpus_pmi = copy.deepcopy(sections_corpus)\n",
    "sections_corpus_highres = copy.deepcopy(sections_corpus)"
   ]
  },
  {
   "cell_type": "code",
   "execution_count": 12,
   "metadata": {},
   "outputs": [],
   "source": [
    "# Update corpusi based on the reweighting schemes\n",
    "sections_corpus_log = train_helpers.update_corpus(sections_corpus_log, weights_log, weight_type='log')\n",
    "sections_corpus_pmi = train_helpers.update_corpus(sections_corpus_pmi, weights_pmi, weight_type='pmi')\n",
    "sections_corpus_highres = train_helpers.update_corpus(sections_corpus_highres, weights_highres, weight_type='highres')"
   ]
  },
  {
   "cell_type": "markdown",
   "metadata": {},
   "source": [
    "## Model Training"
   ]
  },
  {
   "cell_type": "markdown",
   "metadata": {},
   "source": [
    "### Document level analysis"
   ]
  },
  {
   "cell_type": "code",
   "execution_count": 54,
   "metadata": {},
   "outputs": [],
   "source": [
    "corpuses = [docs_corpus]\n",
    "dct = docs_dct\n",
    "docs = docs_docs\n",
    "ids = docs_ids"
   ]
  },
  {
   "cell_type": "code",
   "execution_count": 55,
   "metadata": {},
   "outputs": [
    {
     "name": "stdout",
     "output_type": "stream",
     "text": [
      "Number of topics =  60\n",
      "0\n",
      "Average topic coherence: -0.2333.\n",
      "Perplexity is -11.720652654658071\n",
      "Number of topics =  150\n",
      "0\n",
      "Average topic coherence: -0.2338.\n",
      "Perplexity is -16.892127067065978\n"
     ]
    }
   ],
   "source": [
    "num_topics_vec = [5, 10, 20, 30, 40, 50, 60, 150]\n",
    "coherences = np.zeros((len(num_topics_vec), len(corpuses)))\n",
    "perplexity = np.zeros(((len(num_topics_vec)), len(corpuses)))\n",
    "\n",
    "for i in range(len(num_topics_vec)):\n",
    "    num_topics = num_topics_vec[i]\n",
    "    print(\"Number of topics = \", str(num_topics))\n",
    "    for j in range(len(corpuses)):\n",
    "        print(j)\n",
    "        corpus = corpuses[j]\n",
    "        lda_model = train_helpers.train(corpus, dct, docs, ids, num_topics, field='cs-med')\n",
    "        coherences[i,j] = train_helpers.avg_coherence(lda_model, corpus)\n",
    "        perplexity[i,j] = np.mean(lda_model.log_perplexity(corpus))\n",
    "        print(\"Perplexity is \" + str(perplexity[i,j]))"
   ]
  },
  {
   "cell_type": "markdown",
   "metadata": {},
   "source": [
    "### Section level analysis"
   ]
  },
  {
   "cell_type": "code",
   "execution_count": 52,
   "metadata": {},
   "outputs": [],
   "source": [
    "# Data Input\n",
    "corpuses = [sections_corpus, sections_corpus_log, sections_corpus_pmi, sections_corpus_highres]\n",
    "dct = sections_dct\n",
    "docs = sections_docs\n",
    "ids = paper_ids"
   ]
  },
  {
   "cell_type": "code",
   "execution_count": 53,
   "metadata": {},
   "outputs": [
    {
     "name": "stdout",
     "output_type": "stream",
     "text": [
      "Number of topics =  60\n",
      "0\n",
      "Average topic coherence: -1.0664.\n",
      "Perplexity is -9.046540413737691\n",
      "1\n",
      "Average topic coherence: -1.8111.\n",
      "Perplexity is -9.995494488001164\n",
      "2\n",
      "Average topic coherence: -1.0453.\n",
      "Perplexity is -8.906661399146259\n",
      "3\n",
      "Average topic coherence: -1.0701.\n",
      "Perplexity is -9.16886707884499\n",
      "Number of topics =  150\n",
      "0\n",
      "Average topic coherence: -1.0758.\n",
      "Perplexity is -9.890494410847174\n",
      "1\n",
      "Average topic coherence: -1.8980.\n",
      "Perplexity is -11.014512987379394\n",
      "2\n",
      "Average topic coherence: -1.0489.\n",
      "Perplexity is -9.941397016680234\n",
      "3\n",
      "Average topic coherence: -1.0719.\n",
      "Perplexity is -10.265054689312224\n"
     ]
    }
   ],
   "source": [
    "num_topics_vec = [5, 10, 20, 30, 40, 50, 60, 150]\n",
    "coherences = np.zeros((len(num_topics_vec), len(corpuses)))\n",
    "perplexity = np.zeros(((len(num_topics_vec)), len(corpuses)))\n",
    "\n",
    "for i in range(len(num_topics_vec)):\n",
    "    num_topics = num_topics_vec[i]\n",
    "    print(\"Number of topics = \", str(num_topics))\n",
    "    for j in range(len(corpuses)):\n",
    "        print(j)\n",
    "        corpus = corpuses[j]\n",
    "        lda_model = train_helpers.train(corpus, dct, docs, ids, num_topics, field='cs-med')\n",
    "        coherences[i,j] = train_helpers.avg_coherence(lda_model, corpus)\n",
    "        perplexity[i,j] = np.mean(lda_model.log_perplexity(corpus))\n",
    "        print(\"Perplexity is \" + str(perplexity[i,j]))"
   ]
  },
  {
   "cell_type": "code",
   "execution_count": 22,
   "metadata": {},
   "outputs": [],
   "source": [
    "pd.DataFrame(coherences, columns = ['None', 'Log', 'PMI', 'Highres']).to_csv('./results/coherences2.csv')"
   ]
  }
 ],
 "metadata": {
  "kernelspec": {
   "display_name": "Python 3",
   "language": "python",
   "name": "python3"
  },
  "language_info": {
   "codemirror_mode": {
    "name": "ipython",
    "version": 3
   },
   "file_extension": ".py",
   "mimetype": "text/x-python",
   "name": "python",
   "nbconvert_exporter": "python",
   "pygments_lexer": "ipython3",
   "version": "3.8.3"
  }
 },
 "nbformat": 4,
 "nbformat_minor": 4
}
