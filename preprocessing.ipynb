{
 "cells": [
  {
   "cell_type": "code",
   "execution_count": 6,
   "metadata": {},
   "outputs": [],
   "source": [
    "from read_data import process_batch"
   ]
  },
  {
   "cell_type": "code",
   "execution_count": 2,
   "metadata": {},
   "outputs": [],
   "source": [
    "user = \"m\"\n",
    "if user == \"v\":\n",
    "    sample_data_dir = \"/Users/virenbajaj/Desktop/Columbia Fall 20/Graphical Models/project/20200705v1/sample/\"\n",
    "    full_data_dir = \"/Users/virenbajaj/Desktop/Columbia Fall 20/Graphical Models/project/HighResLDA/SemanticScholar Data/20200705v1/full/\"\n",
    "else:\n",
    "    full_data_dir = './Dataset/20200705v1/full/'\n",
    "    \n",
    "metadata_dir = full_data_dir + 'metadata/'\n",
    "pdf_parses_dir = full_data_dir + 'pdf_parses/'"
   ]
  },
  {
   "cell_type": "code",
   "execution_count": 3,
   "metadata": {},
   "outputs": [
    {
     "name": "stdout",
     "output_type": "stream",
     "text": [
      "['./Dataset/20200705v1/full/metadata/metadata_0.jsonl.gz'] ['./Dataset/20200705v1/full/pdf_parses/pdf_parses_0.jsonl.gz']\n"
     ]
    }
   ],
   "source": [
    "files = range(1)\n",
    "metadata = [metadata_dir + f'metadata_{i}.jsonl.gz' for i in files]\n",
    "pdfs = [pdf_parses_dir + f'pdf_parses_{i}.jsonl.gz' for i in files]\n",
    "fields = ['Computer Science', 'Medicine']\n",
    "#get_ids = set(flat_links) # from cell that gets links of all refs\n",
    "print(metadata, pdfs)"
   ]
  },
  {
   "cell_type": "code",
   "execution_count": 7,
   "metadata": {},
   "outputs": [
    {
     "name": "stderr",
     "output_type": "stream",
     "text": [
      "100%|█████████████████████████████████████████████████████████████████████| 1366661/1366661 [00:26<00:00, 52150.65it/s]\n",
      "100%|████████████████████████████████████████████████████████████████████████| 310736/310736 [1:43:53<00:00, 49.85it/s]\n"
     ]
    }
   ],
   "source": [
    "for batch in zip(metadata,pdfs):\n",
    "    process_batch(batch[0], batch[1])"
   ]
  },
  {
   "cell_type": "code",
   "execution_count": null,
   "metadata": {},
   "outputs": [],
   "source": []
  }
 ],
 "metadata": {
  "kernelspec": {
   "display_name": "Python 3",
   "language": "python",
   "name": "python3"
  },
  "language_info": {
   "codemirror_mode": {
    "name": "ipython",
    "version": 3
   },
   "file_extension": ".py",
   "mimetype": "text/x-python",
   "name": "python",
   "nbconvert_exporter": "python",
   "pygments_lexer": "ipython3",
   "version": "3.8.3"
  }
 },
 "nbformat": 4,
 "nbformat_minor": 4
}
