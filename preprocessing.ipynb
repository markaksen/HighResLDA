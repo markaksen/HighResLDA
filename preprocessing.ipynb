{
 "cells": [
  {
   "cell_type": "markdown",
   "metadata": {},
   "source": [
    "## Reading packages and data"
   ]
  },
  {
   "cell_type": "code",
   "execution_count": 287,
   "metadata": {},
   "outputs": [
    {
     "name": "stderr",
     "output_type": "stream",
     "text": [
      "[nltk_data] Downloading package punkt to\n",
      "[nltk_data]     C:\\Users\\aksen\\AppData\\Roaming\\nltk_data...\n",
      "[nltk_data]   Package punkt is already up-to-date!\n",
      "[nltk_data] Downloading package averaged_perceptron_tagger to\n",
      "[nltk_data]     C:\\Users\\aksen\\AppData\\Roaming\\nltk_data...\n",
      "[nltk_data]   Package averaged_perceptron_tagger is already up-to-\n",
      "[nltk_data]       date!\n",
      "[nltk_data] Downloading package wordnet to\n",
      "[nltk_data]     C:\\Users\\aksen\\AppData\\Roaming\\nltk_data...\n",
      "[nltk_data]   Package wordnet is already up-to-date!\n"
     ]
    }
   ],
   "source": [
    "# Load packages\n",
    "import numpy as np\n",
    "import pandas as pd\n",
    "import json\n",
    "import nltk\n",
    "nltk.download('punkt')\n",
    "nltk.download('averaged_perceptron_tagger')\n",
    "nltk.download('wordnet')\n",
    "from nltk.corpus import stopwords"
   ]
  },
  {
   "cell_type": "code",
   "execution_count": 288,
   "metadata": {},
   "outputs": [],
   "source": [
    "# Load paper_ids and title from metadata\n",
    "paper_ids = []; title = []; index = 0; area = []\n",
    "with open('20200705v1/full/metadata/metadata_0.jsonl') as f:\n",
    "    for line in f:\n",
    "        index += 1\n",
    "        paper = json.loads(line)\n",
    "        #print(paper)\n",
    "        paper_ids.append(paper['paper_id'])\n",
    "        if paper['mag_field_of_study']:\n",
    "            area.append(paper['mag_field_of_study'][0])\n",
    "        else: \n",
    "            area.append('')\n",
    "        title.append(paper['title'])"
   ]
  },
  {
   "cell_type": "code",
   "execution_count": 290,
   "metadata": {},
   "outputs": [],
   "source": [
    "# Load text for each paper\n",
    "papers_ids_text = []; abstract = []; body_text = []; index = 0; whole_text = []\n",
    "with open('20200705v1/full/pdf_parses/pdf_parses_0.jsonl') as f:\n",
    "    for line in f:\n",
    "        index += 1\n",
    "        paper = json.loads(line)\n",
    "        papers_ids_text.append(paper['paper_id'])\n",
    "        if paper['abstract']:\n",
    "            abstract.append(paper['abstract'][0]['text'])\n",
    "        else: \n",
    "            abstract.append('')\n",
    "        text = []\n",
    "        full_text = ''\n",
    "        if paper['body_text']:\n",
    "            for entry in paper['body_text']:\n",
    "                if entry['section'] and entry['text']:\n",
    "                    section = {key: entry[key] for key in ['section', 'text']}\n",
    "                    text.append(section)\n",
    "                    if full_text:\n",
    "                        full_text = full_text + '\\n' + entry['text']\n",
    "                    else:\n",
    "                        full_text = entry['text']\n",
    "            body_text.append(text)\n",
    "            whole_text.append(full_text)\n",
    "        else:\n",
    "            body_text.append([])\n",
    "            whole_text.append('')"
   ]
  },
  {
   "cell_type": "markdown",
   "metadata": {},
   "source": [
    "## Data cleaning"
   ]
  },
  {
   "cell_type": "code",
   "execution_count": 291,
   "metadata": {},
   "outputs": [
    {
     "data": {
      "text/html": [
       "<div>\n",
       "<style scoped>\n",
       "    .dataframe tbody tr th:only-of-type {\n",
       "        vertical-align: middle;\n",
       "    }\n",
       "\n",
       "    .dataframe tbody tr th {\n",
       "        vertical-align: top;\n",
       "    }\n",
       "\n",
       "    .dataframe thead th {\n",
       "        text-align: right;\n",
       "    }\n",
       "</style>\n",
       "<table border=\"1\" class=\"dataframe\">\n",
       "  <thead>\n",
       "    <tr style=\"text-align: right;\">\n",
       "      <th></th>\n",
       "      <th>paper_id</th>\n",
       "      <th>abstract</th>\n",
       "      <th>body_text</th>\n",
       "      <th>whole_text</th>\n",
       "      <th>title</th>\n",
       "      <th>area</th>\n",
       "    </tr>\n",
       "  </thead>\n",
       "  <tbody>\n",
       "    <tr>\n",
       "      <th>0</th>\n",
       "      <td>77499681</td>\n",
       "      <td>The purpose of this study is to evaluate the e...</td>\n",
       "      <td>[{'section': 'CONFLICTS OF INTEREST', 'text': ...</td>\n",
       "      <td>The authors have nothing to disclose.</td>\n",
       "      <td>Effects of Teriparatide Administration on Frac...</td>\n",
       "      <td>Medicine</td>\n",
       "    </tr>\n",
       "    <tr>\n",
       "      <th>1</th>\n",
       "      <td>94550656</td>\n",
       "      <td></td>\n",
       "      <td>[]</td>\n",
       "      <td></td>\n",
       "      <td>The Approximate Analysis of Nonlinear Behavior...</td>\n",
       "      <td>Chemistry</td>\n",
       "    </tr>\n",
       "    <tr>\n",
       "      <th>2</th>\n",
       "      <td>94551239</td>\n",
       "      <td></td>\n",
       "      <td>[]</td>\n",
       "      <td></td>\n",
       "      <td>Scanning probe memories – Technology and appli...</td>\n",
       "      <td>Chemistry</td>\n",
       "    </tr>\n",
       "    <tr>\n",
       "      <th>3</th>\n",
       "      <td>94551546</td>\n",
       "      <td>Ethanolamine (EA) or ethylenediamine (ED)-func...</td>\n",
       "      <td>[{'section': 'INTRODUCTION', 'text': 'Gene the...</td>\n",
       "      <td>Gene therapy holds potential for treating many...</td>\n",
       "      <td>Gd(III) ion-chelated supramolecular assemblies...</td>\n",
       "      <td>Materials Science</td>\n",
       "    </tr>\n",
       "    <tr>\n",
       "      <th>4</th>\n",
       "      <td>94552339</td>\n",
       "      <td></td>\n",
       "      <td>[]</td>\n",
       "      <td></td>\n",
       "      <td>Analytical Procedure for the Determination of ...</td>\n",
       "      <td>Chemistry</td>\n",
       "    </tr>\n",
       "  </tbody>\n",
       "</table>\n",
       "</div>"
      ],
      "text/plain": [
       "   paper_id                                           abstract  \\\n",
       "0  77499681  The purpose of this study is to evaluate the e...   \n",
       "1  94550656                                                      \n",
       "2  94551239                                                      \n",
       "3  94551546  Ethanolamine (EA) or ethylenediamine (ED)-func...   \n",
       "4  94552339                                                      \n",
       "\n",
       "                                           body_text  \\\n",
       "0  [{'section': 'CONFLICTS OF INTEREST', 'text': ...   \n",
       "1                                                 []   \n",
       "2                                                 []   \n",
       "3  [{'section': 'INTRODUCTION', 'text': 'Gene the...   \n",
       "4                                                 []   \n",
       "\n",
       "                                          whole_text  \\\n",
       "0             The authors have nothing to disclose.    \n",
       "1                                                      \n",
       "2                                                      \n",
       "3  Gene therapy holds potential for treating many...   \n",
       "4                                                      \n",
       "\n",
       "                                               title               area  \n",
       "0  Effects of Teriparatide Administration on Frac...           Medicine  \n",
       "1  The Approximate Analysis of Nonlinear Behavior...          Chemistry  \n",
       "2  Scanning probe memories – Technology and appli...          Chemistry  \n",
       "3  Gd(III) ion-chelated supramolecular assemblies...  Materials Science  \n",
       "4  Analytical Procedure for the Determination of ...          Chemistry  "
      ]
     },
     "execution_count": 291,
     "metadata": {},
     "output_type": "execute_result"
    }
   ],
   "source": [
    "# Preprocessing: merging data to dataframe\n",
    "\n",
    "metadata = pd.DataFrame({'paper_id': paper_ids, 'title': title, 'area': area})\n",
    "textdata = pd.DataFrame({'paper_id': papers_ids_text, 'abstract': abstract, 'body_text': body_text, 'whole_text': whole_text})\n",
    "textdata = textdata.merge(metadata, how='left', on='paper_id')\n",
    "textdata.head(5)"
   ]
  },
  {
   "cell_type": "code",
   "execution_count": 293,
   "metadata": {},
   "outputs": [
    {
     "data": {
      "text/plain": [
       "310736"
      ]
     },
     "execution_count": 293,
     "metadata": {},
     "output_type": "execute_result"
    }
   ],
   "source": [
    "len(textdata)"
   ]
  },
  {
   "cell_type": "code",
   "execution_count": 292,
   "metadata": {},
   "outputs": [],
   "source": [
    "# Preprocessing: lower case text\n",
    "textdata['whole_text'] = [x.lower() for x in textdata['whole_text']]"
   ]
  },
  {
   "cell_type": "code",
   "execution_count": null,
   "metadata": {},
   "outputs": [],
   "source": [
    "# Select rows where whole text has >= 100 words\n",
    "#textdata['split_text'] = [x.split() for x in textdata['whole_text']]\n",
    "textdata['split_text'] = [nltk.word_tokenize(x) for x in textdata['whole_text']]\n",
    "text_length = [len(x)>= 200 for x in textdata['split_text']]\n",
    "textdata = textdata[text_length]"
   ]
  },
  {
   "cell_type": "code",
   "execution_count": 230,
   "metadata": {},
   "outputs": [
    {
     "data": {
      "text/html": [
       "<div>\n",
       "<style scoped>\n",
       "    .dataframe tbody tr th:only-of-type {\n",
       "        vertical-align: middle;\n",
       "    }\n",
       "\n",
       "    .dataframe tbody tr th {\n",
       "        vertical-align: top;\n",
       "    }\n",
       "\n",
       "    .dataframe thead th {\n",
       "        text-align: right;\n",
       "    }\n",
       "</style>\n",
       "<table border=\"1\" class=\"dataframe\">\n",
       "  <thead>\n",
       "    <tr style=\"text-align: right;\">\n",
       "      <th></th>\n",
       "      <th>paper_id</th>\n",
       "      <th>abstract</th>\n",
       "      <th>body_text</th>\n",
       "      <th>whole_text</th>\n",
       "      <th>title</th>\n",
       "      <th>area</th>\n",
       "      <th>split_text</th>\n",
       "    </tr>\n",
       "  </thead>\n",
       "  <tbody>\n",
       "    <tr>\n",
       "      <th>3</th>\n",
       "      <td>94551546</td>\n",
       "      <td>Ethanolamine (EA) or ethylenediamine (ED)-func...</td>\n",
       "      <td>[{'section': 'INTRODUCTION', 'text': 'Gene the...</td>\n",
       "      <td>gene therapy holds potential for treating many...</td>\n",
       "      <td>Gd(III) ion-chelated supramolecular assemblies...</td>\n",
       "      <td>Materials Science</td>\n",
       "      <td>[gene, therapy, holds, potential, for, treatin...</td>\n",
       "    </tr>\n",
       "    <tr>\n",
       "      <th>11</th>\n",
       "      <td>159355456</td>\n",
       "      <td>The Government of India has presented an expan...</td>\n",
       "      <td>[{'section': 'OUR MISSION', 'text': 'Our missi...</td>\n",
       "      <td>our mission is achieving and maintaining excel...</td>\n",
       "      <td>An update on model Ayush wellness clinic at pr...</td>\n",
       "      <td>Political Science</td>\n",
       "      <td>[our, mission, is, achieving, and, maintaining...</td>\n",
       "    </tr>\n",
       "    <tr>\n",
       "      <th>16</th>\n",
       "      <td>18980380</td>\n",
       "      <td>This technical note studies Markov decision pr...</td>\n",
       "      <td>[{'section': 'II. PRELIMINARIES', 'text': 'Thr...</td>\n",
       "      <td>throughout the technical note, we use capital ...</td>\n",
       "      <td>Distributionally Robust Counterpart in Markov ...</td>\n",
       "      <td>Mathematics</td>\n",
       "      <td>[throughout, the, technical, note, ,, we, use,...</td>\n",
       "    </tr>\n",
       "    <tr>\n",
       "      <th>17</th>\n",
       "      <td>18980463</td>\n",
       "      <td>Although development of the adult Drosophila c...</td>\n",
       "      <td>[{'section': 'Embryonic development of the lar...</td>\n",
       "      <td>we followed bo pr development from specificati...</td>\n",
       "      <td>Adult and larval photoreceptors use different ...</td>\n",
       "      <td>Biology</td>\n",
       "      <td>[we, followed, bo, pr, development, from, spec...</td>\n",
       "    </tr>\n",
       "    <tr>\n",
       "      <th>19</th>\n",
       "      <td>18981111</td>\n",
       "      <td></td>\n",
       "      <td>[{'section': 'Exploration of Unknown Spaces by...</td>\n",
       "      <td>orly lahav david mioduser tel aviv university,...</td>\n",
       "      <td>Exploration of Unknown Spaces by People Who Ar...</td>\n",
       "      <td>Computer Science</td>\n",
       "      <td>[orly, lahav, david, mioduser, tel, aviv, univ...</td>\n",
       "    </tr>\n",
       "  </tbody>\n",
       "</table>\n",
       "</div>"
      ],
      "text/plain": [
       "     paper_id                                           abstract  \\\n",
       "3    94551546  Ethanolamine (EA) or ethylenediamine (ED)-func...   \n",
       "11  159355456  The Government of India has presented an expan...   \n",
       "16   18980380  This technical note studies Markov decision pr...   \n",
       "17   18980463  Although development of the adult Drosophila c...   \n",
       "19   18981111                                                      \n",
       "\n",
       "                                            body_text  \\\n",
       "3   [{'section': 'INTRODUCTION', 'text': 'Gene the...   \n",
       "11  [{'section': 'OUR MISSION', 'text': 'Our missi...   \n",
       "16  [{'section': 'II. PRELIMINARIES', 'text': 'Thr...   \n",
       "17  [{'section': 'Embryonic development of the lar...   \n",
       "19  [{'section': 'Exploration of Unknown Spaces by...   \n",
       "\n",
       "                                           whole_text  \\\n",
       "3   gene therapy holds potential for treating many...   \n",
       "11  our mission is achieving and maintaining excel...   \n",
       "16  throughout the technical note, we use capital ...   \n",
       "17  we followed bo pr development from specificati...   \n",
       "19  orly lahav david mioduser tel aviv university,...   \n",
       "\n",
       "                                                title               area  \\\n",
       "3   Gd(III) ion-chelated supramolecular assemblies...  Materials Science   \n",
       "11  An update on model Ayush wellness clinic at pr...  Political Science   \n",
       "16  Distributionally Robust Counterpart in Markov ...        Mathematics   \n",
       "17  Adult and larval photoreceptors use different ...            Biology   \n",
       "19  Exploration of Unknown Spaces by People Who Ar...   Computer Science   \n",
       "\n",
       "                                           split_text  \n",
       "3   [gene, therapy, holds, potential, for, treatin...  \n",
       "11  [our, mission, is, achieving, and, maintaining...  \n",
       "16  [throughout, the, technical, note, ,, we, use,...  \n",
       "17  [we, followed, bo, pr, development, from, spec...  \n",
       "19  [orly, lahav, david, mioduser, tel, aviv, univ...  "
      ]
     },
     "execution_count": 230,
     "metadata": {},
     "output_type": "execute_result"
    }
   ],
   "source": [
    "textdata.head(5)"
   ]
  },
  {
   "cell_type": "code",
   "execution_count": 231,
   "metadata": {},
   "outputs": [],
   "source": [
    "from nltk import pos_tag\n",
    "from nltk.corpus import wordnet\n",
    "def get_word_postag(word):\n",
    "    if pos_tag([word])[0][1].startswith('J'):\n",
    "        return wordnet.ADJ\n",
    "    if pos_tag([word])[0][1].startswith('V'):\n",
    "        return wordnet.VERB\n",
    "    if pos_tag([word])[0][1].startswith('N'):\n",
    "        return wordnet.NOUN\n",
    "    else:\n",
    "        return wordnet.ADJ\n",
    "        #return wordnet.NOUN\n",
    "    "
   ]
  },
  {
   "cell_type": "code",
   "execution_count": 243,
   "metadata": {},
   "outputs": [],
   "source": [
    "# Preprocessing: alpha num\n",
    "def keep_alphanum(words):\n",
    "    return [word for word in words if word.isalnum()]"
   ]
  },
  {
   "cell_type": "code",
   "execution_count": 244,
   "metadata": {},
   "outputs": [],
   "source": [
    "# Preprocessing: keep nouns\n",
    "def keep_nouns(words):\n",
    "    return [word for word in words if get_word_postag(word) =='n']"
   ]
  },
  {
   "cell_type": "code",
   "execution_count": 250,
   "metadata": {},
   "outputs": [],
   "source": [
    "# Preprocessing: keep words >= 3 in length\n",
    "def keep_longer_words(words):\n",
    "    return [word for word in words if len(word) >= 3]"
   ]
  },
  {
   "cell_type": "code",
   "execution_count": 251,
   "metadata": {},
   "outputs": [],
   "source": [
    "# Preprocessing: stemming\n",
    "from nltk.stem import PorterStemmer \n",
    "ps = PorterStemmer() \n",
    "def stemming(words):\n",
    "    return [ps.stem(word) for word in words]"
   ]
  },
  {
   "cell_type": "code",
   "execution_count": 246,
   "metadata": {},
   "outputs": [],
   "source": [
    "textdata['nouns'] = [keep_alphanum(x) for x in textdata['split_text']]\n",
    "textdata['nouns'] = [keep_nouns(x) for x in textdata['nouns']]"
   ]
  },
  {
   "cell_type": "code",
   "execution_count": 252,
   "metadata": {},
   "outputs": [],
   "source": [
    "textdata['nouns'] = [keep_longer_words(x) for x in textdata['nouns']]\n",
    "textdata['nouns'] = [stemming(x) for x in textdata['nouns']]"
   ]
  },
  {
   "cell_type": "code",
   "execution_count": 254,
   "metadata": {},
   "outputs": [],
   "source": [
    "# Preprocessing: get corpus of words\n",
    "corpus_all = []\n",
    "for text in textdata['nouns']:\n",
    "    corpus_all.extend(text)"
   ]
  },
  {
   "cell_type": "code",
   "execution_count": 255,
   "metadata": {},
   "outputs": [],
   "source": [
    "# Preprocessing: removing stop words:\n",
    "stop_words = set(stopwords.words('english'))  \n",
    "corpus = []\n",
    "for word in corpus_all:\n",
    "    if word not in stop_words:\n",
    "        corpus.append(word)"
   ]
  },
  {
   "cell_type": "code",
   "execution_count": 256,
   "metadata": {},
   "outputs": [],
   "source": [
    "from  collections import Counter\n",
    "def getUniqueWords(allWords):\n",
    "    uniqueWords = Counter()\n",
    "\n",
    "    for word in allWords:\n",
    "        uniqueWords[word]+=1\n",
    "    return uniqueWords.keys() "
   ]
  },
  {
   "cell_type": "code",
   "execution_count": 258,
   "metadata": {},
   "outputs": [
    {
     "data": {
      "text/plain": [
       "8717"
      ]
     },
     "execution_count": 258,
     "metadata": {},
     "output_type": "execute_result"
    }
   ],
   "source": [
    "unique_words = getUniqueWords(corpus)\n",
    "len(unique_words)"
   ]
  },
  {
   "cell_type": "code",
   "execution_count": 259,
   "metadata": {},
   "outputs": [],
   "source": [
    "wordfreq = {}\n",
    "for paper in textdata['nouns']:\n",
    "    for noun in paper:\n",
    "        if noun not in wordfreq.keys():\n",
    "            wordfreq[noun] = 1\n",
    "        else:\n",
    "            wordfreq[noun] += 1"
   ]
  },
  {
   "cell_type": "code",
   "execution_count": 284,
   "metadata": {},
   "outputs": [],
   "source": [
    "import heapq\n",
    "most_freq = heapq.nlargest(10, wordfreq, key=wordfreq.get)"
   ]
  },
  {
   "cell_type": "code",
   "execution_count": 285,
   "metadata": {},
   "outputs": [
    {
     "data": {
      "text/plain": [
       "['system',\n",
       " 'studi',\n",
       " 'data',\n",
       " 'cell',\n",
       " 'time',\n",
       " 'case',\n",
       " 'group',\n",
       " 'model',\n",
       " 'result',\n",
       " 'patient']"
      ]
     },
     "execution_count": 285,
     "metadata": {},
     "output_type": "execute_result"
    }
   ],
   "source": [
    "most_freq"
   ]
  },
  {
   "cell_type": "code",
   "execution_count": 272,
   "metadata": {},
   "outputs": [],
   "source": [
    "def merged(words):\n",
    "    return ' '.join(word for word in words)"
   ]
  },
  {
   "cell_type": "code",
   "execution_count": 273,
   "metadata": {},
   "outputs": [],
   "source": [
    "textdata['merged'] = [merged(x) for x in textdata['nouns']]"
   ]
  },
  {
   "cell_type": "code",
   "execution_count": 274,
   "metadata": {},
   "outputs": [
    {
     "data": {
      "text/html": [
       "<div>\n",
       "<style scoped>\n",
       "    .dataframe tbody tr th:only-of-type {\n",
       "        vertical-align: middle;\n",
       "    }\n",
       "\n",
       "    .dataframe tbody tr th {\n",
       "        vertical-align: top;\n",
       "    }\n",
       "\n",
       "    .dataframe thead th {\n",
       "        text-align: right;\n",
       "    }\n",
       "</style>\n",
       "<table border=\"1\" class=\"dataframe\">\n",
       "  <thead>\n",
       "    <tr style=\"text-align: right;\">\n",
       "      <th></th>\n",
       "      <th>paper_id</th>\n",
       "      <th>abstract</th>\n",
       "      <th>body_text</th>\n",
       "      <th>whole_text</th>\n",
       "      <th>title</th>\n",
       "      <th>area</th>\n",
       "      <th>split_text</th>\n",
       "      <th>nouns</th>\n",
       "      <th>merged</th>\n",
       "    </tr>\n",
       "  </thead>\n",
       "  <tbody>\n",
       "    <tr>\n",
       "      <th>3</th>\n",
       "      <td>94551546</td>\n",
       "      <td>Ethanolamine (EA) or ethylenediamine (ED)-func...</td>\n",
       "      <td>[{'section': 'INTRODUCTION', 'text': 'Gene the...</td>\n",
       "      <td>gene therapy holds potential for treating many...</td>\n",
       "      <td>Gd(III) ion-chelated supramolecular assemblies...</td>\n",
       "      <td>Materials Science</td>\n",
       "      <td>[gene, therapy, holds, potential, for, treatin...</td>\n",
       "      <td>[gene, therapi, diseas, cancer, diseas, gene, ...</td>\n",
       "      <td>gene therapi diseas cancer diseas gene therapi...</td>\n",
       "    </tr>\n",
       "    <tr>\n",
       "      <th>11</th>\n",
       "      <td>159355456</td>\n",
       "      <td>The Government of India has presented an expan...</td>\n",
       "      <td>[{'section': 'OUR MISSION', 'text': 'Our missi...</td>\n",
       "      <td>our mission is achieving and maintaining excel...</td>\n",
       "      <td>An update on model Ayush wellness clinic at pr...</td>\n",
       "      <td>Political Science</td>\n",
       "      <td>[our, mission, is, achieving, and, maintaining...</td>\n",
       "      <td>[mission, excel, healthcar, servic, system, me...</td>\n",
       "      <td>mission excel healthcar servic system medicin ...</td>\n",
       "    </tr>\n",
       "    <tr>\n",
       "      <th>16</th>\n",
       "      <td>18980380</td>\n",
       "      <td>This technical note studies Markov decision pr...</td>\n",
       "      <td>[{'section': 'II. PRELIMINARIES', 'text': 'Thr...</td>\n",
       "      <td>throughout the technical note, we use capital ...</td>\n",
       "      <td>Distributionally Robust Counterpart in Markov ...</td>\n",
       "      <td>Mathematics</td>\n",
       "      <td>[throughout, the, technical, note, ,, we, use,...</td>\n",
       "      <td>[note, use, capit, letter, denot, matric, bold...</td>\n",
       "      <td>note use capit letter denot matric bold face l...</td>\n",
       "    </tr>\n",
       "    <tr>\n",
       "      <th>17</th>\n",
       "      <td>18980463</td>\n",
       "      <td>Although development of the adult Drosophila c...</td>\n",
       "      <td>[{'section': 'Embryonic development of the lar...</td>\n",
       "      <td>we followed bo pr development from specificati...</td>\n",
       "      <td>Adult and larval photoreceptors use different ...</td>\n",
       "      <td>Biology</td>\n",
       "      <td>[we, followed, bo, pr, development, from, spec...</td>\n",
       "      <td>[develop, specif, precursor, end, larval, life...</td>\n",
       "      <td>develop specif precursor end larval life molec...</td>\n",
       "    </tr>\n",
       "    <tr>\n",
       "      <th>19</th>\n",
       "      <td>18981111</td>\n",
       "      <td></td>\n",
       "      <td>[{'section': 'Exploration of Unknown Spaces by...</td>\n",
       "      <td>orly lahav david mioduser tel aviv university,...</td>\n",
       "      <td>Exploration of Unknown Spaces by People Who Ar...</td>\n",
       "      <td>Computer Science</td>\n",
       "      <td>[orly, lahav, david, mioduser, tel, aviv, univ...</td>\n",
       "      <td>[lahav, david, miodus, tel, aviv, univers, sch...</td>\n",
       "      <td>lahav david miodus tel aviv univers school edu...</td>\n",
       "    </tr>\n",
       "  </tbody>\n",
       "</table>\n",
       "</div>"
      ],
      "text/plain": [
       "     paper_id                                           abstract  \\\n",
       "3    94551546  Ethanolamine (EA) or ethylenediamine (ED)-func...   \n",
       "11  159355456  The Government of India has presented an expan...   \n",
       "16   18980380  This technical note studies Markov decision pr...   \n",
       "17   18980463  Although development of the adult Drosophila c...   \n",
       "19   18981111                                                      \n",
       "\n",
       "                                            body_text  \\\n",
       "3   [{'section': 'INTRODUCTION', 'text': 'Gene the...   \n",
       "11  [{'section': 'OUR MISSION', 'text': 'Our missi...   \n",
       "16  [{'section': 'II. PRELIMINARIES', 'text': 'Thr...   \n",
       "17  [{'section': 'Embryonic development of the lar...   \n",
       "19  [{'section': 'Exploration of Unknown Spaces by...   \n",
       "\n",
       "                                           whole_text  \\\n",
       "3   gene therapy holds potential for treating many...   \n",
       "11  our mission is achieving and maintaining excel...   \n",
       "16  throughout the technical note, we use capital ...   \n",
       "17  we followed bo pr development from specificati...   \n",
       "19  orly lahav david mioduser tel aviv university,...   \n",
       "\n",
       "                                                title               area  \\\n",
       "3   Gd(III) ion-chelated supramolecular assemblies...  Materials Science   \n",
       "11  An update on model Ayush wellness clinic at pr...  Political Science   \n",
       "16  Distributionally Robust Counterpart in Markov ...        Mathematics   \n",
       "17  Adult and larval photoreceptors use different ...            Biology   \n",
       "19  Exploration of Unknown Spaces by People Who Ar...   Computer Science   \n",
       "\n",
       "                                           split_text  \\\n",
       "3   [gene, therapy, holds, potential, for, treatin...   \n",
       "11  [our, mission, is, achieving, and, maintaining...   \n",
       "16  [throughout, the, technical, note, ,, we, use,...   \n",
       "17  [we, followed, bo, pr, development, from, spec...   \n",
       "19  [orly, lahav, david, mioduser, tel, aviv, univ...   \n",
       "\n",
       "                                                nouns  \\\n",
       "3   [gene, therapi, diseas, cancer, diseas, gene, ...   \n",
       "11  [mission, excel, healthcar, servic, system, me...   \n",
       "16  [note, use, capit, letter, denot, matric, bold...   \n",
       "17  [develop, specif, precursor, end, larval, life...   \n",
       "19  [lahav, david, miodus, tel, aviv, univers, sch...   \n",
       "\n",
       "                                               merged  \n",
       "3   gene therapi diseas cancer diseas gene therapi...  \n",
       "11  mission excel healthcar servic system medicin ...  \n",
       "16  note use capit letter denot matric bold face l...  \n",
       "17  develop specif precursor end larval life molec...  \n",
       "19  lahav david miodus tel aviv univers school edu...  "
      ]
     },
     "execution_count": 274,
     "metadata": {},
     "output_type": "execute_result"
    }
   ],
   "source": [
    "textdata.head(5)"
   ]
  },
  {
   "cell_type": "markdown",
   "metadata": {},
   "source": [
    "## Bag of Words Representation"
   ]
  },
  {
   "cell_type": "code",
   "execution_count": 286,
   "metadata": {},
   "outputs": [],
   "source": [
    "textdata_sample = textdata"
   ]
  },
  {
   "cell_type": "code",
   "execution_count": 275,
   "metadata": {},
   "outputs": [],
   "source": [
    "from sklearn.feature_extraction.text import CountVectorizer\n",
    "cv = CountVectorizer(max_df = max_features=1000)\n",
    "\n",
    "X = cv.fit_transform(textdata['merged']).toarray()\n"
   ]
  },
  {
   "cell_type": "code",
   "execution_count": 277,
   "metadata": {},
   "outputs": [
    {
     "data": {
      "text/plain": [
       "(82, 1000)"
      ]
     },
     "execution_count": 277,
     "metadata": {},
     "output_type": "execute_result"
    }
   ],
   "source": [
    "X.shape"
   ]
  }
 ],
 "metadata": {
  "kernelspec": {
   "display_name": "Python 3",
   "language": "python",
   "name": "python3"
  },
  "language_info": {
   "name": ""
  }
 },
 "nbformat": 4,
 "nbformat_minor": 4
}
